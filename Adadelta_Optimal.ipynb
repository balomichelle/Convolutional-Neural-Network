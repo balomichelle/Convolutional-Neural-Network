{
 "cells": [
  {
   "cell_type": "code",
   "execution_count": 1,
   "metadata": {},
   "outputs": [
    {
     "name": "stdout",
     "output_type": "stream",
     "text": [
      "The data type of X is  <class 'numpy.ndarray'>\n",
      "The data type of y is  <class 'numpy.ndarray'>\n",
      "The shape of X is  (1000, 28, 28, 1)\n",
      "The shape of y is  (1000,)\n",
      "The number of unique classes of y is  10\n",
      "The shape of X_train is  (800, 28, 28, 1)\n",
      "The shape of y_train is  (800,)\n",
      "Rows of y [5 0 4 1 9]\n",
      "Rows of y_oh after np.zeros transformation  [[0. 0. 0. 0. 0. 1. 0. 0. 0. 0.]\n",
      " [1. 0. 0. 0. 0. 0. 0. 0. 0. 0.]\n",
      " [0. 0. 0. 0. 1. 0. 0. 0. 0. 0.]\n",
      " [0. 1. 0. 0. 0. 0. 0. 0. 0. 0.]\n",
      " [0. 0. 0. 0. 0. 0. 0. 0. 0. 1.]]\n",
      "Shape of y_oh after np.zeros transformation  (1000, 10)\n",
      "Shape of y_oh_train after np.zeros transformation  (800, 10)\n",
      "Shape of y_oh_test after np.zeros transformation  (200, 10)\n"
     ]
    }
   ],
   "source": [
    "import numpy as np\n",
    "#from sklearn.datasets import fetch_openml\n",
    "from sklearn.model_selection import train_test_split\n",
    "import matplotlib.pyplot as plt\n",
    "# for the random seed\n",
    "import tensorflow as tf\n",
    "\n",
    "# set the random seeds to get reproducible results\n",
    "np.random.seed(1)\n",
    "tf.set_random_seed(2)\n",
    "\n",
    "import numpy as np\n",
    "tmp = np.load('mnist.npz')\n",
    "X = tmp['X']\n",
    "y = tmp['y']\n",
    "X, y = X[:1000], y[:1000]\n",
    "X = X.reshape(X.shape[0], 28, 28, 1)\n",
    "\n",
    "# Normalize\n",
    "X = X / 255.\n",
    "# number of unique classes\n",
    "num_classes = len(np.unique(y))\n",
    "\n",
    "y = y.astype(int)\n",
    "\n",
    "X_train, X_test, y_train, y_test = train_test_split(X, y, test_size=.2, random_state=1)\n",
    "\n",
    "num_tot = y.shape[0]\n",
    "num_train = y_train.shape[0]\n",
    "num_test = y_test.shape[0]\n",
    "\n",
    "y_oh = np.zeros((num_tot, num_classes))\n",
    "y_oh[range(num_tot), y] = 1\n",
    "\n",
    "# Print out a few rows of y.\n",
    "print('Rows of y', y[0:5] )\n",
    "# Print out a few rows of y_oh.\n",
    "print('Rows of y_oh after np.zeros transformation ', y_oh[0:5] )\n",
    "\n",
    "y_oh_train = np.zeros((num_train, num_classes))\n",
    "y_oh_train[range(num_train), y_train] = 1\n",
    "\n",
    "y_oh_test = np.zeros((num_test, num_classes))\n",
    "y_oh_test[range(num_test), y_test] = 1\n"
   ]
  },
  {
   "cell_type": "code",
   "execution_count": 2,
   "metadata": {},
   "outputs": [
    {
     "name": "stderr",
     "output_type": "stream",
     "text": [
      "Using TensorFlow backend.\n"
     ]
    }
   ],
   "source": [
    "import keras\n",
    "from keras.models import Sequential\n",
    "from keras.layers import Dense, Dropout, Flatten\n",
    "from keras.layers import Conv2D, MaxPooling2D\n",
    "from keras.optimizers import SGD\n",
    "from keras.optimizers import Adadelta\n",
    "from keras.optimizers import Adam\n",
    "from keras.optimizers import Adagrad\n",
    "import tensorflow\n",
    "from keras.callbacks import *\n",
    "from clr_callback import *\n",
    "import timeit\n",
    "%matplotlib inline\n",
    "import matplotlib.pyplot as plt\n",
    "\n",
    "model = Sequential()\n",
    "model.add(Conv2D(16, (3, 3), activation='relu', input_shape=(28, 28, 1)))\n",
    "# Max pooling\n",
    "model.add(MaxPooling2D(pool_size=(2, 2)))\n",
    "model.add(Dropout(0.))\n",
    "model.add(Conv2D(32, (3, 3), activation='relu'))\n",
    "# Max pooling\n",
    "model.add(MaxPooling2D(pool_size=(2, 2)))\n",
    "model.add(Flatten())\n",
    "model.add(Dense(128, activation='relu'))\n",
    "model.add(Dropout(0.))\n",
    "model.add(Dense(10, activation='softmax'))"
   ]
  },
  {
   "cell_type": "code",
   "execution_count": 24,
   "metadata": {},
   "outputs": [
    {
     "name": "stdout",
     "output_type": "stream",
     "text": [
      "Epoch 1/20\n",
      "800/800 [==============================] - 2s 2ms/step - loss: 1.4116\n",
      "Epoch 2/20\n",
      "800/800 [==============================] - 1s 1ms/step - loss: 0.4277\n",
      "Epoch 3/20\n",
      "800/800 [==============================] - 1s 1ms/step - loss: 0.2357\n",
      "Epoch 4/20\n",
      "800/800 [==============================] - 1s 1ms/step - loss: 0.1583\n",
      "Epoch 5/20\n",
      "800/800 [==============================] - 1s 1ms/step - loss: 0.0951\n",
      "Epoch 6/20\n",
      "800/800 [==============================] - 1s 1ms/step - loss: 0.0656\n",
      "Epoch 7/20\n",
      "800/800 [==============================] - 1s 1ms/step - loss: 0.0199\n",
      "Epoch 8/20\n",
      "800/800 [==============================] - 1s 1ms/step - loss: 0.0120\n",
      "Epoch 9/20\n",
      "800/800 [==============================] - 1s 1ms/step - loss: 0.0065\n",
      "Epoch 10/20\n",
      "800/800 [==============================] - 1s 1ms/step - loss: 0.0038\n",
      "Epoch 11/20\n",
      "800/800 [==============================] - 1s 1ms/step - loss: 0.0164\n",
      "Epoch 12/20\n",
      "800/800 [==============================] - 1s 1ms/step - loss: 0.0046\n",
      "Epoch 13/20\n",
      "800/800 [==============================] - 1s 1ms/step - loss: 7.9428e-04\n",
      "Epoch 14/20\n",
      "800/800 [==============================] - 1s 1ms/step - loss: 4.8419e-04\n",
      "Epoch 15/20\n",
      "800/800 [==============================] - 1s 1ms/step - loss: 3.2572e-04\n",
      "Epoch 16/20\n",
      "800/800 [==============================] - 1s 1ms/step - loss: 2.3873e-04\n",
      "Epoch 17/20\n",
      "800/800 [==============================] - 1s 1ms/step - loss: 1.6265e-04\n",
      "Epoch 18/20\n",
      "800/800 [==============================] - 1s 1ms/step - loss: 1.2226e-04\n",
      "Epoch 19/20\n",
      "800/800 [==============================] - 1s 1ms/step - loss: 9.4901e-05\n",
      "Epoch 20/20\n",
      "800/800 [==============================] - 1s 1ms/step - loss: 7.6317e-05\n",
      "200/200 [==============================] - 0s 2ms/step\n",
      "Accuracy of Adadelta optimizer when lr = 3.16 is 0.95\n"
     ]
    }
   ],
   "source": [
    "lrlist= [3.16]\n",
    "\n",
    "#lrlist= [2.3]\n",
    "\n",
    "# Test two optimal learning rates alternatives\n",
    "\n",
    "for i in range(len(lrlist)):\n",
    "    \n",
    "    adadelta = Adadelta(lr=lrlist[i])\n",
    "    # Compile the model\n",
    "\n",
    "    model.compile(loss='categorical_crossentropy', optimizer=adadelta)\n",
    "    \n",
    "    # Train the model\n",
    "    adadelta_hist = model.fit(X_train, y_oh_train, batch_size=32, epochs=20)\n",
    "    model.reset_states()\n",
    "\n",
    "    # Evaluate performance\n",
    "    test_loss = model.evaluate(X_test, y_oh_test, batch_size=32)\n",
    "\n",
    "    predictions = model.predict(X_test, batch_size=32)\n",
    "    predictions = np.argmax(predictions, axis=1) # change encoding again\n",
    "    print('Accuracy of Adadelta optimizer when lr =',lrlist[i],'is', (predictions == y_test).sum() / predictions.shape[0]) \n",
    "   "
   ]
  },
  {
   "cell_type": "code",
   "execution_count": 25,
   "metadata": {},
   "outputs": [
    {
     "data": {
      "text/plain": [
       "Text(0.5, 0, 'epochs')"
      ]
     },
     "execution_count": 25,
     "metadata": {},
     "output_type": "execute_result"
    },
    {
     "data": {
      "image/png": "[encoded data removed]",
      "text/plain": [
       "<Figure size 432x288 with 1 Axes>"
      ]
     },
     "metadata": {
      "needs_background": "light"
     },
     "output_type": "display_data"
    }
   ],
   "source": [
    "# The loss function curve using adadelta when learning rate is 3.16\n",
    "\n",
    "plt.plot(adadelta_hist.history['loss'])\n",
    "plt.title('Model loss')\n",
    "plt.ylabel('Loss')\n",
    "plt.xlabel('epochs') "
   ]
  },
  {
   "cell_type": "code",
   "execution_count": 28,
   "metadata": {},
   "outputs": [
    {
     "name": "stdout",
     "output_type": "stream",
     "text": [
      "Epoch 1/20\n",
      "800/800 [==============================] - 2s 2ms/step - loss: 1.6349\n",
      "Epoch 2/20\n",
      "800/800 [==============================] - 1s 1ms/step - loss: 0.5062\n",
      "Epoch 3/20\n",
      "800/800 [==============================] - 1s 1ms/step - loss: 0.2641\n",
      "Epoch 4/20\n",
      "800/800 [==============================] - 1s 1ms/step - loss: 0.1732\n",
      "Epoch 5/20\n",
      "800/800 [==============================] - 1s 1ms/step - loss: 0.1038\n",
      "Epoch 6/20\n",
      "800/800 [==============================] - 1s 1ms/step - loss: 0.0493\n",
      "Epoch 7/20\n",
      "800/800 [==============================] - 1s 1ms/step - loss: 0.0468\n",
      "Epoch 8/20\n",
      "800/800 [==============================] - 1s 1ms/step - loss: 0.0335\n",
      "Epoch 9/20\n",
      "800/800 [==============================] - 1s 1ms/step - loss: 0.0113\n",
      "Epoch 10/20\n",
      "800/800 [==============================] - 1s 666us/step - loss: 0.0058\n",
      "Epoch 11/20\n",
      "800/800 [==============================] - 0s 533us/step - loss: 0.0024\n",
      "Epoch 12/20\n",
      "800/800 [==============================] - 0s 539us/step - loss: 0.0016\n",
      "Epoch 13/20\n",
      "800/800 [==============================] - 0s 541us/step - loss: 0.0010\n",
      "Epoch 14/20\n",
      "800/800 [==============================] - 0s 545us/step - loss: 8.7042e-04\n",
      "Epoch 15/20\n",
      "800/800 [==============================] - 0s 540us/step - loss: 5.0650e-04\n",
      "Epoch 16/20\n",
      "800/800 [==============================] - 0s 541us/step - loss: 3.0424e-04\n",
      "Epoch 17/20\n",
      "800/800 [==============================] - 1s 650us/step - loss: 2.2651e-04\n",
      "Epoch 18/20\n",
      "800/800 [==============================] - 1s 688us/step - loss: 1.7914e-04\n",
      "Epoch 19/20\n",
      "800/800 [==============================] - 0s 552us/step - loss: 1.4408e-04\n",
      "Epoch 20/20\n",
      "800/800 [==============================] - 0s 539us/step - loss: 1.1850e-04\n",
      "200/200 [==============================] - 0s 2ms/step\n",
      "Accuracy of Adadelta optimizer when lr = 2.3 is 0.945\n"
     ]
    }
   ],
   "source": [
    "model.reset_states()\n",
    "#lrlist= [3.6]\n",
    "\n",
    "lrlist= [2.3]\n",
    "\n",
    "# Test two optimal learning rates alternatives\n",
    "\n",
    "for i in range(len(lrlist)):\n",
    "\n",
    "    adadelta = Adadelta(lr=lrlist[i])\n",
    "    # Compile the model\n",
    "\n",
    "    model.compile(loss='categorical_crossentropy', optimizer=adadelta)\n",
    "    \n",
    "    # Train the model\n",
    "    adadelta_hist = model.fit(X_train, y_oh_train, batch_size=32, epochs=20)\n",
    "    model.reset_states()\n",
    "\n",
    "    # Evaluate performance\n",
    "    test_loss = model.evaluate(X_test, y_oh_test, batch_size=32)\n",
    "\n",
    "    predictions = model.predict(X_test, batch_size=32)\n",
    "    predictions = np.argmax(predictions, axis=1) \n",
    "    print('Accuracy of Adadelta optimizer when lr =',lrlist[i],'is', (predictions == y_test).sum() / predictions.shape[0]) \n",
    "   "
   ]
  },
  {
   "cell_type": "code",
   "execution_count": 29,
   "metadata": {},
   "outputs": [
    {
     "data": {
      "text/plain": [
       "Text(0.5, 0, 'epochs')"
      ]
     },
     "execution_count": 29,
     "metadata": {},
     "output_type": "execute_result"
    },
    {
     "data": {
      "image/png": "[encoded data removed]",
      "text/plain": [
       "<Figure size 432x288 with 1 Axes>"
      ]
     },
     "metadata": {
      "needs_background": "light"
     },
     "output_type": "display_data"
    }
   ],
   "source": [
    "# The loss function curve using adadelta when learning rate is 2.3\n",
    "\n",
    "plt.plot(adadelta_hist.history['loss'])\n",
    "plt.title('Model loss')\n",
    "plt.ylabel('Loss')\n",
    "plt.xlabel('epochs') "
   ]
  },
  {
   "cell_type": "code",
   "execution_count": null,
   "metadata": {},
   "outputs": [],
   "source": [
    "# Seems that both 2.3 and 3.15 are good learning rates for adadelta in this network"
   ]
  }
 ],
 "metadata": {
  "kernelspec": {
   "display_name": "Python 3",
   "language": "python",
   "name": "python3"
  },
  "language_info": {
   "codemirror_mode": {
    "name": "ipython",
    "version": 3
   },
   "file_extension": ".py",
   "mimetype": "text/x-python",
   "name": "python",
   "nbconvert_exporter": "python",
   "pygments_lexer": "ipython3",
   "version": "3.6.5"
  }
 },
 "nbformat": 4,
 "nbformat_minor": 2
}
