{
 "cells": [
  {
   "cell_type": "code",
   "execution_count": null,
   "metadata": {},
   "outputs": [],
   "source": [
    "# Construct the best model based on the parameters I have found.\n",
    "\n",
    "# Hyperparameters:\n",
    "# optimizer = Adam\n",
    "# learnng rate = 0.00145\n",
    "# dropout 1 = 0.288662535902546\n",
    "# dropout 2 = 0.3376263809413643\n",
    "\n",
    "# Again, I used the Cyclical Learning Rates to build the best model.\n",
    "# Cyclical Learning Rates (CLR) has the following advantages:\n",
    "# CLR allows the model to be trained on higher learning rates and converge faster;\n",
    "# During the middle of learning when learning rate is higher, the learning rate\n",
    "# works as regularisation method and keep network from overfitting.\n",
    "# This helps the network to avoid steep areas of loss and land better flatter minima.\n",
    "\n",
    "# This website introduces this method: \n",
    "# https://www.jeremyjordan.me/nn-learning-rate/\n",
    "\n",
    "# The paper 'Cyclical Learning Rates for Training Neural Networks', Leslie Smith \n",
    "# first proposes a cyclical learning rate schedule \n",
    "# https://arxiv.org/abs/1506.01186 \n",
    "\n",
    "\n",
    "\n",
    "\n",
    "# How much better is it than the worst and average models?\n",
    "\n",
    "# Most optimizers in neural network will achieve the same global optimum \n",
    "# if I choose the correct learning rate.\n",
    "# The fastest optimizer that can achieve the global optimum with the shortest time\n",
    "# is the best optimizer.\n",
    "\n",
    "# As is shown in the loss function graph at the end of this file,\n",
    "# The loss function of test set reaches the global minimum after just 4 epochs.\n",
    "# The time is shorter. (15.12s)\n",
    "# Accuracy rate is 96.50%\n",
    "# And achieve a smaller baseline error (3.50%)\n",
    "\n",
    "# The avaerage model achieves 93% accuracy after 10 epochs. This model is faster and\n",
    "# has lower baseline error.\n",
    "\n",
    "\n",
    "\n",
    "\n",
    "# Result on the test set\n",
    "# No. The performance on the test set is not representative for the performance \n",
    "# one would expect on a previously unseen data set.\n",
    "\n",
    "# Even when they are drawn from the same distribution, datasets with different sizes\n",
    "# have different optimal hyperparameters (such as learning rates) in network.\n",
    "# The performace of a previously unseen data set depends on the optimizers one choose\n",
    "# as well the size of the data set. \n"
   ]
  },
  {
   "cell_type": "code",
   "execution_count": 37,
   "metadata": {},
   "outputs": [
    {
     "name": "stdout",
     "output_type": "stream",
     "text": [
      "Rows of y [5 0 4 1 9]\n",
      "Rows of y_oh after np.zeros transformation  [[0. 0. 0. 0. 0. 1. 0. 0. 0. 0.]\n",
      " [1. 0. 0. 0. 0. 0. 0. 0. 0. 0.]\n",
      " [0. 0. 0. 0. 1. 0. 0. 0. 0. 0.]\n",
      " [0. 1. 0. 0. 0. 0. 0. 0. 0. 0.]\n",
      " [0. 0. 0. 0. 0. 0. 0. 0. 0. 1.]]\n"
     ]
    }
   ],
   "source": [
    "import numpy as np\n",
    "#from sklearn.datasets import fetch_openml\n",
    "from sklearn.model_selection import train_test_split\n",
    "import matplotlib.pyplot as plt\n",
    "# for the random seed\n",
    "import tensorflow as tf\n",
    "\n",
    "# set the random seeds to get reproducible results\n",
    "np.random.seed(1)\n",
    "tf.set_random_seed(2)\n",
    "\n",
    "import numpy as np\n",
    "tmp = np.load('mnist.npz')\n",
    "X = tmp['X']\n",
    "y = tmp['y']\n",
    "X, y = X[:1000], y[:1000]\n",
    "X = X.reshape(X.shape[0], 28, 28, 1)\n",
    "\n",
    "# Normalize\n",
    "X = X / 255.\n",
    "# number of unique classes\n",
    "num_classes = len(np.unique(y))\n",
    "\n",
    "y = y.astype(int)\n",
    "\n",
    "X_train, X_test, y_train, y_test = train_test_split(X, y, test_size=.2, random_state=1)\n",
    "\n",
    "num_tot = y.shape[0]\n",
    "num_train = y_train.shape[0]\n",
    "num_test = y_test.shape[0]\n",
    "\n",
    "y_oh = np.zeros((num_tot, num_classes))\n",
    "y_oh[range(num_tot), y] = 1\n",
    "\n",
    "# Print out a few rows of y.\n",
    "print('Rows of y', y[0:5] )\n",
    "# Print out a few rows of y_oh.\n",
    "print('Rows of y_oh after np.zeros transformation ', y_oh[0:5] )\n",
    "\n",
    "y_oh_train = np.zeros((num_train, num_classes))\n",
    "y_oh_train[range(num_train), y_train] = 1\n",
    "\n",
    "y_oh_test = np.zeros((num_test, num_classes))\n",
    "y_oh_test[range(num_test), y_test] = 1"
   ]
  },
  {
   "cell_type": "code",
   "execution_count": 38,
   "metadata": {},
   "outputs": [],
   "source": [
    "import keras\n",
    "from keras.models import Sequential\n",
    "from keras.layers import Dense, Dropout, Flatten\n",
    "from keras.layers import Conv2D, MaxPooling2D\n",
    "from keras.optimizers import SGD\n",
    "from keras.optimizers import Adadelta\n",
    "from keras.optimizers import Adam\n",
    "from keras.optimizers import Adagrad\n",
    "import tensorflow\n",
    "from keras.callbacks import *\n",
    "from clr_callback import *\n",
    "import timeit\n",
    "%matplotlib inline\n",
    "import matplotlib.pyplot as plt\n",
    "\n",
    "model = Sequential()\n",
    "model.add(Conv2D(16, (3, 3), activation='relu', input_shape=(28, 28, 1)))\n",
    "# Max pooling\n",
    "model.add(MaxPooling2D(pool_size=(2, 2)))\n",
    "model.add(Dropout(0.288662535902546))\n",
    "model.add(Conv2D(32, (3, 3), activation='relu'))\n",
    "# Max pooling\n",
    "model.add(MaxPooling2D(pool_size=(2, 2)))\n",
    "model.add(Flatten())\n",
    "model.add(Dense(128, activation='relu'))\n",
    "model.add(Dropout(0.3376263809413643))\n",
    "model.add(Dense(10, activation='softmax'))\n"
   ]
  },
  {
   "cell_type": "code",
   "execution_count": 39,
   "metadata": {},
   "outputs": [],
   "source": [
    "# The optimal learning rate range for Adam is [0.0010, 0.0015]\n",
    "# I set this range using cyclical learing rate policy\n",
    "\n",
    "clr_triangular = CyclicLR(base_lr=0.0010, max_lr=0.0015,\n",
    "                                step_size=100.,mode = 'triangular')\n",
    "\n",
    "# Compile the model\n",
    "model.compile(optimizer = adam, loss='categorical_crossentropy', metrics=['accuracy'])"
   ]
  },
  {
   "cell_type": "code",
   "execution_count": 40,
   "metadata": {},
   "outputs": [
    {
     "name": "stdout",
     "output_type": "stream",
     "text": [
      "Train on 800 samples, validate on 200 samples\n",
      "Epoch 1/20\n",
      " - 1s - loss: 1.6497 - acc: 0.4313 - val_loss: 0.7929 - val_acc: 0.8150\n",
      "Epoch 2/20\n",
      " - 1s - loss: 0.5599 - acc: 0.8250 - val_loss: 0.3417 - val_acc: 0.8700\n",
      "Epoch 3/20\n",
      " - 1s - loss: 0.3212 - acc: 0.8950 - val_loss: 0.2601 - val_acc: 0.9300\n",
      "Epoch 4/20\n",
      " - 1s - loss: 0.2729 - acc: 0.9150 - val_loss: 0.2408 - val_acc: 0.9300\n",
      "Epoch 5/20\n",
      " - 1s - loss: 0.1667 - acc: 0.9525 - val_loss: 0.2156 - val_acc: 0.9450\n",
      "Epoch 6/20\n",
      " - 1s - loss: 0.1225 - acc: 0.9575 - val_loss: 0.1816 - val_acc: 0.9550\n",
      "Epoch 7/20\n",
      " - 1s - loss: 0.0820 - acc: 0.9775 - val_loss: 0.1860 - val_acc: 0.9600\n",
      "Epoch 8/20\n",
      " - 1s - loss: 0.1209 - acc: 0.9563 - val_loss: 0.1761 - val_acc: 0.9500\n",
      "Epoch 9/20\n",
      " - 1s - loss: 0.0908 - acc: 0.9713 - val_loss: 0.1761 - val_acc: 0.9600\n",
      "Epoch 10/20\n",
      " - 1s - loss: 0.0780 - acc: 0.9775 - val_loss: 0.1764 - val_acc: 0.9550\n",
      "Epoch 11/20\n",
      " - 1s - loss: 0.0462 - acc: 0.9875 - val_loss: 0.1772 - val_acc: 0.9500\n",
      "Epoch 12/20\n",
      " - 1s - loss: 0.0659 - acc: 0.9800 - val_loss: 0.1765 - val_acc: 0.9500\n",
      "Epoch 13/20\n",
      " - 1s - loss: 0.0646 - acc: 0.9800 - val_loss: 0.1884 - val_acc: 0.9500\n",
      "Epoch 14/20\n",
      " - 1s - loss: 0.0447 - acc: 0.9888 - val_loss: 0.1711 - val_acc: 0.9650\n",
      "Epoch 15/20\n",
      " - 1s - loss: 0.0348 - acc: 0.9913 - val_loss: 0.1864 - val_acc: 0.9600\n",
      "Epoch 16/20\n",
      " - 1s - loss: 0.0415 - acc: 0.9850 - val_loss: 0.2055 - val_acc: 0.9600\n",
      "Epoch 17/20\n",
      " - 1s - loss: 0.0260 - acc: 0.9913 - val_loss: 0.2152 - val_acc: 0.9600\n",
      "Epoch 18/20\n",
      " - 1s - loss: 0.0168 - acc: 0.9950 - val_loss: 0.2049 - val_acc: 0.9600\n",
      "Epoch 19/20\n",
      " - 1s - loss: 0.0196 - acc: 0.9925 - val_loss: 0.2494 - val_acc: 0.9600\n",
      "Epoch 20/20\n",
      " - 1s - loss: 0.0242 - acc: 0.9925 - val_loss: 0.1791 - val_acc: 0.9650\n",
      "Time taken for the Network to train :  16.223134158999528\n",
      "Baseline Error: 3.50%\n"
     ]
    }
   ],
   "source": [
    "startTime = timeit.default_timer()\n",
    "history = model.fit(X_train, y_oh_train, validation_data=(X_test, y_oh_test) , batch_size=32, epochs=20, callbacks=[clr_triangular], verbose=2)\n",
    "elapsedTime = timeit.default_timer() - startTime\n",
    "print(\"Time taken for the Network to train : \",elapsedTime)\n",
    "\n",
    "# Final evaluation of the model\n",
    "scores = model.evaluate(X_test, y_oh_test, verbose=0)\n",
    "print(\"Baseline Error: %.2f%%\" % (100-scores[1]*100))"
   ]
  },
  {
   "cell_type": "code",
   "execution_count": 41,
   "metadata": {},
   "outputs": [
    {
     "data": {
      "image/png": "[encoded data removed]",
      "text/plain": [
       "<Figure size 432x288 with 1 Axes>"
      ]
     },
     "metadata": {
      "needs_background": "light"
     },
     "output_type": "display_data"
    }
   ],
   "source": [
    "# Plot training & validation loss values\n",
    "plt.plot(history.history['loss'])\n",
    "plt.plot(history.history['val_loss'])\n",
    "plt.title('Model loss')\n",
    "plt.ylabel('Loss')\n",
    "plt.xlabel('Epoch')\n",
    "plt.legend(['Train', 'Test'], loc='upper left')\n",
    "plt.show()"
   ]
  },
  {
   "cell_type": "code",
   "execution_count": null,
   "metadata": {},
   "outputs": [],
   "source": []
  }
 ],
 "metadata": {
  "kernelspec": {
   "display_name": "Python 3",
   "language": "python",
   "name": "python3"
  },
  "language_info": {
   "codemirror_mode": {
    "name": "ipython",
    "version": 3
   },
   "file_extension": ".py",
   "mimetype": "text/x-python",
   "name": "python",
   "nbconvert_exporter": "python",
   "pygments_lexer": "ipython3",
   "version": "3.6.5"
  }
 },
 "nbformat": 4,
 "nbformat_minor": 2
}
